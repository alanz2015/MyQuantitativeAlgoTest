{
 "cells": [
  {
   "cell_type": "markdown",
   "metadata": {},
   "source": [
    "LSTM应用股票市场初探\n",
    "https://www.jianshu.com/p/8122f866436b"
   ]
  },
  {
   "cell_type": "code",
   "execution_count": null,
   "metadata": {},
   "outputs": [],
   "source": [
    "# 导入包 \n",
    "import matplotlib.pyplot as plt \n",
    "from sklearn.preprocessing import scale \n",
    "from keras.layers import Input, Dense, LSTM, merge \n",
    "from keras.models import Model \n",
    "import pandas as pd \n",
    "import numpy as np \n",
    "import talib as ta \n",
    "import tushare as ts \n",
    "import matplotlib.pyplot as plt \n",
    "from matplotlib import rc \n",
    "\n",
    "rc('mathtext', default='regular') \n",
    "import seaborn as sns sns.set_style('white') \n",
    "from matplotlib import dates \n",
    "import matplotlib as mpl \n",
    "%matplotlib inline #plt.rcParams[\"figure.figsize\"] = (20,10)\n"
   ]
  },
  {
   "cell_type": "code",
   "execution_count": null,
   "metadata": {},
   "outputs": [],
   "source": [
    "# 基础参数配置 \n",
    "class conf: \n",
    "    instrument = '600600' #股票代码 \n",
    "    #设置用于训练和回测的开始/结束日期 \n",
    "    start_date = '2005-01-01' \n",
    "    split_date = '2015-01-01' \n",
    "    end_date = '2017-05-01' \n",
    "    fields = ['close', 'open', 'high', 'low','volume','amount'] \n",
    "    # features \n",
    "    seq_len = 30 #每个input的长度 \n",
    "    batch = 100 #整数，指定进行梯度下降时每个batch包含的样本数,训练时一个batch的样本会被计算一次梯度下降，使目标函数优化一步\n"
   ]
  },
  {
   "cell_type": "code",
   "execution_count": null,
   "metadata": {},
   "outputs": [],
   "source": [
    "# 数据导入以及初步处理 \n",
    "data = ts.get_k_data(conf.instrument, conf.start_date, conf.end_date) \n",
    "del data[\"code\"] \n",
    "data[\"amount\"] = data[\"close\"]*data[\"volume\"] \n",
    "data['return'] = data['close'].shift(-5) / data['open'].shift(-1) - 1 #计算未来5日收益率（未来第五日的收盘价/明日的开盘价） \n",
    "data.dropna(inplace=True) \n",
    "datatime = data['date'][data.date>=conf.split_date] #记录predictions的时间，回测要用 \n",
    "data['return'] = data['return'].apply(lambda x:np.where(x>=0.2,0.2,np.where(x>-0.2,x,-0.2))) #去极值 \n",
    "data['return'] = data['return']*10 # 适当增大return范围，利于LSTM模型训练 \n",
    "data.reset_index(drop=True, inplace=True) \n",
    "scaledata = data[conf.fields] \n",
    "traindata = data[data.date<conf.split_date]\n"
   ]
  }
 ],
 "metadata": {
  "kernelspec": {
   "display_name": "Python 3",
   "language": "python",
   "name": "python3"
  },
  "language_info": {
   "codemirror_mode": {
    "name": "ipython",
    "version": 3
   },
   "file_extension": ".py",
   "mimetype": "text/x-python",
   "name": "python",
   "nbconvert_exporter": "python",
   "pygments_lexer": "ipython3",
   "version": "3.6.3"
  }
 },
 "nbformat": 4,
 "nbformat_minor": 2
}
