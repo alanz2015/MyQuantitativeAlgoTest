{
 "cells": [
  {
   "cell_type": "markdown",
   "metadata": {},
   "source": [
    "LSTM应用股票市场初探\n",
    "https://www.jianshu.com/p/8122f866436b"
   ]
  },
  {
   "cell_type": "code",
   "execution_count": 11,
   "metadata": {},
   "outputs": [],
   "source": [
    "# 导入包 \n",
    "from datetime import datetime\n",
    "import matplotlib.pyplot as plt \n",
    "from sklearn.preprocessing import scale \n",
    "from keras.layers import Input, Dense, LSTM, merge \n",
    "from keras.models import Model \n",
    "import pandas as pd \n",
    "import numpy as np \n",
    "import talib as ta \n",
    "import tushare as ts \n",
    "import matplotlib.pyplot as plt \n",
    "from matplotlib import rc \n",
    "\n",
    "rc('mathtext', default='regular') \n",
    "import seaborn as sns \n",
    "sns.set_style('white') \n",
    "from matplotlib import dates \n",
    "import matplotlib as mpl \n",
    "%matplotlib inline \n",
    "#plt.rcParams[\"figure.figsize\"] = (20,10)\n"
   ]
  },
  {
   "cell_type": "code",
   "execution_count": 12,
   "metadata": {},
   "outputs": [],
   "source": [
    "# 基础参数配置 \n",
    "class conf: \n",
    "    instrument = '600600' #股票代码 \n",
    "    #设置用于训练和回测的开始/结束日期 \n",
    "    start_date = '2017-01-01' \n",
    "    split_date = '2017-10-01' \n",
    "    end_date = '2018-03-01' \n",
    "    fields = ['close', 'open', 'high', 'low','volume','amount'] \n",
    "    # features \n",
    "    seq_len = 30 #每个input的长度 \n",
    "    batch = 100 #整数，指定进行梯度下降时每个batch包含的样本数,训练时一个batch的样本会被计算一次梯度下降，使目标函数优化一步\n"
   ]
  },
  {
   "cell_type": "code",
   "execution_count": 13,
   "metadata": {},
   "outputs": [],
   "source": [
    "# 数据导入以及初步处理 \n",
    "data = ts.get_k_data(conf.instrument, conf.start_date, conf.end_date) \n",
    "del data[\"code\"] \n",
    "data[\"amount\"] = data[\"close\"] * data[\"volume\"] \n",
    "data['return'] = data['close'].shift(-5) / data['open'].shift(-1) - 1 #计算未来5日收益率（未来第五日的收盘价/明日的开盘价） \n",
    "data.dropna(inplace=True) \n",
    "datatime = data['date'][data.date>=conf.split_date] #记录predictions的时间，回测要用 \n",
    "data['return'] = data['return'].apply(lambda x:np.where(x>=0.2,0.2,np.where(x>-0.2,x,-0.2))) #去极值 \n",
    "data['return'] = data['return'] * 10 # 适当增大return范围，利于LSTM模型训练 \n",
    "data.reset_index(drop=True, inplace=True) \n",
    "scaledata = data[conf.fields] \n",
    "traindata = data[data.date < conf.split_date]\n",
    "\n",
    "# print(len(data), len(traindata))\n",
    "# print(traindata)\n",
    "# print(scaledata)"
   ]
  },
  {
   "cell_type": "code",
   "execution_count": 14,
   "metadata": {},
   "outputs": [],
   "source": [
    "# 数据处理：设定每个input（30 time series×6features）以及数据标准化 \n",
    "train_input = [] \n",
    "train_output = [] \n",
    "test_input = [] \n",
    "test_output = [] \n",
    "for i in range(conf.seq_len-1, len(traindata)): \n",
    "    a = scale(scaledata[i+1-conf.seq_len:i+1]) \n",
    "    # print(\"~~~~~~~~~~~~~~~~~~~~~~\")\n",
    "    # print(a.shape)\n",
    "    train_input.append(a) \n",
    "    c = data['return'][i] \n",
    "    # c = data['return'][i+1-conf.seq_len:i+1]\n",
    "    train_output.append(c) \n",
    "    # print(np.shape(train_input), \" xxxx \", np.shape(train_output), \" ; \", train_output)\n",
    "\n",
    "for j in range(len(traindata), len(data)): \n",
    "    b = scale(scaledata[j+1-conf.seq_len:j+1]) \n",
    "    test_input.append(b) \n",
    "    c = data['return'][j] \n",
    "    test_output.append(c) \n",
    "\n",
    "# LSTM接受数组类型的输入 \n",
    "train_x = np.array(train_input) \n",
    "train_y = np.array(train_output) \n",
    "test_x = np.array(test_input) \n",
    "test_y = np.array(test_output)\n",
    "\n",
    "# print(\"=========================================\")\n",
    "# print(\"train_input shape : \", np.shape(train_input))\n",
    "# print(\"train_output shape: \", np.shape(train_output))\n",
    "\n",
    "# print(\"test_input shape : \", np.shape(test_input))\n",
    "# print(\"test_output shape: \", np.shape(test_output))\n",
    "\n",
    "# print(\"train_x: \", train_x.shape, \"test_x shape: \", test_x.shape)\n",
    "# print(\"------------------------------------------\")"
   ]
  },
  {
   "cell_type": "code",
   "execution_count": 15,
   "metadata": {},
   "outputs": [],
   "source": [
    "# 自定义激活函数\n",
    "import tensorflow as tf\n",
    "def atan(x): \n",
    "    return tf.atan(x)"
   ]
  },
  {
   "cell_type": "code",
   "execution_count": 16,
   "metadata": {},
   "outputs": [
    {
     "name": "stdout",
     "output_type": "stream",
     "text": [
      "Epoch 1/10\n",
      " - 1s - loss: 0.0665 - mean_squared_error: 0.0665\n",
      "Epoch 2/10\n",
      " - 0s - loss: 0.0676 - mean_squared_error: 0.0676\n",
      "Epoch 3/10\n",
      " - 0s - loss: 0.0628 - mean_squared_error: 0.0628\n",
      "Epoch 4/10\n",
      " - 0s - loss: 0.0539 - mean_squared_error: 0.0539\n",
      "Epoch 5/10\n",
      " - 0s - loss: 0.0530 - mean_squared_error: 0.0530\n",
      "Epoch 6/10\n",
      " - 0s - loss: 0.0499 - mean_squared_error: 0.0499\n",
      "Epoch 7/10\n",
      " - 0s - loss: 0.0528 - mean_squared_error: 0.0528\n",
      "Epoch 8/10\n",
      " - 0s - loss: 0.0541 - mean_squared_error: 0.0541\n",
      "Epoch 9/10\n",
      " - 0s - loss: 0.0515 - mean_squared_error: 0.0515\n",
      "Epoch 10/10\n",
      " - 0s - loss: 0.0506 - mean_squared_error: 0.0506\n"
     ]
    },
    {
     "data": {
      "text/plain": [
       "<keras.callbacks.History at 0x7f2ef80ceda0>"
      ]
     },
     "execution_count": 16,
     "metadata": {},
     "output_type": "execute_result"
    }
   ],
   "source": [
    "# 构建神经网络层 1层LSTM层+3层Dense层 \n",
    "# 用于1个输入情况 \n",
    "lstm_input = Input(shape=(30,6), name='lstm_input') \n",
    "lstm_output = LSTM(128, activation=atan, dropout=0.2, recurrent_dropout=0.1)(lstm_input) \n",
    "Dense_output_1 = Dense(64, activation='linear')(lstm_output) \n",
    "Dense_output_2 = Dense(16, activation='linear')(Dense_output_1) \n",
    "predictions = Dense(1, activation=atan)(Dense_output_2) \n",
    "model = Model(inputs=lstm_input, outputs=predictions) \n",
    "model.compile(optimizer='adam', loss='mse', metrics=['mse']) \n",
    "model.fit(train_x, train_y, batch_size=conf.batch, epochs=10, verbose=2)"
   ]
  },
  {
   "cell_type": "code",
   "execution_count": 17,
   "metadata": {},
   "outputs": [
    {
     "name": "stdout",
     "output_type": "stream",
     "text": [
      "(93, 30, 6)\n"
     ]
    }
   ],
   "source": [
    "# 预测\n",
    "print(test_x.shape)\n",
    "predictions = model.predict(test_x)"
   ]
  },
  {
   "cell_type": "code",
   "execution_count": 18,
   "metadata": {
    "scrolled": true
   },
   "outputs": [
    {
     "data": {
      "text/plain": [
       "<matplotlib.legend.Legend at 0x7f2eeb375c50>"
      ]
     },
     "execution_count": 18,
     "metadata": {},
     "output_type": "execute_result"
    },
    {
     "data": {
      "image/png": "[encoded data removed]",
      "text/plain": [
       "<matplotlib.figure.Figure at 0x7f2f0844cdd8>"
      ]
     },
     "metadata": {},
     "output_type": "display_data"
    }
   ],
   "source": [
    "# 预测值和真实值的关系 \n",
    "data1 = test_y \n",
    "data2 = predictions \n",
    "fig, ax = plt.subplots(figsize=(14, 8)) \n",
    "ax.plot(data2,data1, 'o', label=\"data\") \n",
    "ax.legend(loc='best')"
   ]
  },
  {
   "cell_type": "code",
   "execution_count": 19,
   "metadata": {},
   "outputs": [],
   "source": [
    "# 如果预测值>0,取为1；如果预测值<=0,取为-1.为回测做准备 \n",
    "for i in range(len(predictions)): \n",
    "    if predictions[i]>0: \n",
    "        predictions[i]=1 \n",
    "    elif predictions[i]<=0: \n",
    "        predictions[i]=-1"
   ]
  },
  {
   "cell_type": "code",
   "execution_count": 10,
   "metadata": {},
   "outputs": [],
   "source": [
    "# 将预测值与时间整合作为回测数据 \n",
    "cc = np.reshape(predictions,len(predictions), 1) \n",
    "databacktest = pd.DataFrame() \n",
    "databacktest['date'] = datatime \n",
    "databacktest['direction'] = np.round(cc)"
   ]
  },
  {
   "cell_type": "code",
   "execution_count": null,
   "metadata": {},
   "outputs": [],
   "source": []
  }
 ],
 "metadata": {
  "kernelspec": {
   "display_name": "Python 3",
   "language": "python",
   "name": "python3"
  },
  "language_info": {
   "codemirror_mode": {
    "name": "ipython",
    "version": 3
   },
   "file_extension": ".py",
   "mimetype": "text/x-python",
   "name": "python",
   "nbconvert_exporter": "python",
   "pygments_lexer": "ipython3",
   "version": "3.6.3"
  }
 },
 "nbformat": 4,
 "nbformat_minor": 2
}
